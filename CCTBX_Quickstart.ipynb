{
  "nbformat": 4,
  "nbformat_minor": 0,
  "metadata": {
    "colab": {
      "name": "CCTBX_Quickstart.ipynb",
      "provenance": [],
      "collapsed_sections": [],
      "include_colab_link": true
    },
    "kernelspec": {
      "display_name": "Python 3",
      "name": "python3"
    },
    "language_info": {
      "name": "python"
    },
    "widgets": {
      "application/vnd.jupyter.widget-state+json": {
        "f2ac96bb2392446f9b00fa6ccda00d9e": {
          "model_module": "@jupyter-widgets/controls",
          "model_name": "HBoxModel",
          "model_module_version": "1.5.0",
          "state": {
            "_view_name": "HBoxView",
            "_dom_classes": [],
            "_model_name": "HBoxModel",
            "_view_module": "@jupyter-widgets/controls",
            "_model_module_version": "1.5.0",
            "_view_count": null,
            "_view_module_version": "1.5.0",
            "box_style": "",
            "layout": "IPY_MODEL_7651165684c347a9b89f200442bc93d2",
            "_model_module": "@jupyter-widgets/controls",
            "children": [
              "IPY_MODEL_a98c66ed87b940198c10ee490bd134e0",
              "IPY_MODEL_16a3437d428d4bf99efaf762ae96a3a0",
              "IPY_MODEL_39ab313cefea4283a55597e0e2ceb5dc"
            ]
          }
        },
        "7651165684c347a9b89f200442bc93d2": {
          "model_module": "@jupyter-widgets/base",
          "model_name": "LayoutModel",
          "model_module_version": "1.2.0",
          "state": {
            "_view_name": "LayoutView",
            "grid_template_rows": null,
            "right": null,
            "justify_content": null,
            "_view_module": "@jupyter-widgets/base",
            "overflow": null,
            "_model_module_version": "1.2.0",
            "_view_count": null,
            "flex_flow": null,
            "width": null,
            "min_width": null,
            "border": null,
            "align_items": null,
            "bottom": null,
            "_model_module": "@jupyter-widgets/base",
            "top": null,
            "grid_column": null,
            "overflow_y": null,
            "overflow_x": null,
            "grid_auto_flow": null,
            "grid_area": null,
            "grid_template_columns": null,
            "flex": null,
            "_model_name": "LayoutModel",
            "justify_items": null,
            "grid_row": null,
            "max_height": null,
            "align_content": null,
            "visibility": null,
            "align_self": null,
            "height": null,
            "min_height": null,
            "padding": null,
            "grid_auto_rows": null,
            "grid_gap": null,
            "max_width": null,
            "order": null,
            "_view_module_version": "1.2.0",
            "grid_template_areas": null,
            "object_position": null,
            "object_fit": null,
            "grid_auto_columns": null,
            "margin": null,
            "display": null,
            "left": null
          }
        },
        "a98c66ed87b940198c10ee490bd134e0": {
          "model_module": "@jupyter-widgets/controls",
          "model_name": "HTMLModel",
          "model_module_version": "1.5.0",
          "state": {
            "_view_name": "HTMLView",
            "style": "IPY_MODEL_0904a3b30e0d490d9f212f9bcff37cc9",
            "_dom_classes": [],
            "description": "",
            "_model_name": "HTMLModel",
            "placeholder": "​",
            "_view_module": "@jupyter-widgets/controls",
            "_model_module_version": "1.5.0",
            "value": " 20%",
            "_view_count": null,
            "_view_module_version": "1.5.0",
            "description_tooltip": null,
            "_model_module": "@jupyter-widgets/controls",
            "layout": "IPY_MODEL_8307f4cc6a5f497e9e65c9fd591cf713"
          }
        },
        "16a3437d428d4bf99efaf762ae96a3a0": {
          "model_module": "@jupyter-widgets/controls",
          "model_name": "FloatProgressModel",
          "model_module_version": "1.5.0",
          "state": {
            "_view_name": "ProgressView",
            "style": "IPY_MODEL_e238e81219114b4f89eae66fe27f552d",
            "_dom_classes": [],
            "description": "",
            "_model_name": "FloatProgressModel",
            "bar_style": "",
            "max": 50,
            "_view_module": "@jupyter-widgets/controls",
            "_model_module_version": "1.5.0",
            "value": 10,
            "_view_count": null,
            "_view_module_version": "1.5.0",
            "orientation": "horizontal",
            "min": 0,
            "description_tooltip": null,
            "_model_module": "@jupyter-widgets/controls",
            "layout": "IPY_MODEL_c701b979fa2e4767ac6d9f7fface0646"
          }
        },
        "39ab313cefea4283a55597e0e2ceb5dc": {
          "model_module": "@jupyter-widgets/controls",
          "model_name": "HTMLModel",
          "model_module_version": "1.5.0",
          "state": {
            "_view_name": "HTMLView",
            "style": "IPY_MODEL_058af76b6985472bb635971b42bfdd2d",
            "_dom_classes": [],
            "description": "",
            "_model_name": "HTMLModel",
            "placeholder": "​",
            "_view_module": "@jupyter-widgets/controls",
            "_model_module_version": "1.5.0",
            "value": " 10/50 [00:01&lt;00:05,  7.72it/s]",
            "_view_count": null,
            "_view_module_version": "1.5.0",
            "description_tooltip": null,
            "_model_module": "@jupyter-widgets/controls",
            "layout": "IPY_MODEL_d5fae5e326ab4b3b8f5798350c0aef43"
          }
        },
        "0904a3b30e0d490d9f212f9bcff37cc9": {
          "model_module": "@jupyter-widgets/controls",
          "model_name": "DescriptionStyleModel",
          "model_module_version": "1.5.0",
          "state": {
            "_view_name": "StyleView",
            "_model_name": "DescriptionStyleModel",
            "description_width": "",
            "_view_module": "@jupyter-widgets/base",
            "_model_module_version": "1.5.0",
            "_view_count": null,
            "_view_module_version": "1.2.0",
            "_model_module": "@jupyter-widgets/controls"
          }
        },
        "8307f4cc6a5f497e9e65c9fd591cf713": {
          "model_module": "@jupyter-widgets/base",
          "model_name": "LayoutModel",
          "model_module_version": "1.2.0",
          "state": {
            "_view_name": "LayoutView",
            "grid_template_rows": null,
            "right": null,
            "justify_content": null,
            "_view_module": "@jupyter-widgets/base",
            "overflow": null,
            "_model_module_version": "1.2.0",
            "_view_count": null,
            "flex_flow": null,
            "width": null,
            "min_width": null,
            "border": null,
            "align_items": null,
            "bottom": null,
            "_model_module": "@jupyter-widgets/base",
            "top": null,
            "grid_column": null,
            "overflow_y": null,
            "overflow_x": null,
            "grid_auto_flow": null,
            "grid_area": null,
            "grid_template_columns": null,
            "flex": null,
            "_model_name": "LayoutModel",
            "justify_items": null,
            "grid_row": null,
            "max_height": null,
            "align_content": null,
            "visibility": null,
            "align_self": null,
            "height": null,
            "min_height": null,
            "padding": null,
            "grid_auto_rows": null,
            "grid_gap": null,
            "max_width": null,
            "order": null,
            "_view_module_version": "1.2.0",
            "grid_template_areas": null,
            "object_position": null,
            "object_fit": null,
            "grid_auto_columns": null,
            "margin": null,
            "display": null,
            "left": null
          }
        },
        "e238e81219114b4f89eae66fe27f552d": {
          "model_module": "@jupyter-widgets/controls",
          "model_name": "ProgressStyleModel",
          "model_module_version": "1.5.0",
          "state": {
            "_view_name": "StyleView",
            "_model_name": "ProgressStyleModel",
            "description_width": "",
            "_view_module": "@jupyter-widgets/base",
            "_model_module_version": "1.5.0",
            "_view_count": null,
            "_view_module_version": "1.2.0",
            "bar_color": null,
            "_model_module": "@jupyter-widgets/controls"
          }
        },
        "c701b979fa2e4767ac6d9f7fface0646": {
          "model_module": "@jupyter-widgets/base",
          "model_name": "LayoutModel",
          "model_module_version": "1.2.0",
          "state": {
            "_view_name": "LayoutView",
            "grid_template_rows": null,
            "right": null,
            "justify_content": null,
            "_view_module": "@jupyter-widgets/base",
            "overflow": null,
            "_model_module_version": "1.2.0",
            "_view_count": null,
            "flex_flow": null,
            "width": null,
            "min_width": null,
            "border": null,
            "align_items": null,
            "bottom": null,
            "_model_module": "@jupyter-widgets/base",
            "top": null,
            "grid_column": null,
            "overflow_y": null,
            "overflow_x": null,
            "grid_auto_flow": null,
            "grid_area": null,
            "grid_template_columns": null,
            "flex": null,
            "_model_name": "LayoutModel",
            "justify_items": null,
            "grid_row": null,
            "max_height": null,
            "align_content": null,
            "visibility": null,
            "align_self": null,
            "height": null,
            "min_height": null,
            "padding": null,
            "grid_auto_rows": null,
            "grid_gap": null,
            "max_width": null,
            "order": null,
            "_view_module_version": "1.2.0",
            "grid_template_areas": null,
            "object_position": null,
            "object_fit": null,
            "grid_auto_columns": null,
            "margin": null,
            "display": null,
            "left": null
          }
        },
        "058af76b6985472bb635971b42bfdd2d": {
          "model_module": "@jupyter-widgets/controls",
          "model_name": "DescriptionStyleModel",
          "model_module_version": "1.5.0",
          "state": {
            "_view_name": "StyleView",
            "_model_name": "DescriptionStyleModel",
            "description_width": "",
            "_view_module": "@jupyter-widgets/base",
            "_model_module_version": "1.5.0",
            "_view_count": null,
            "_view_module_version": "1.2.0",
            "_model_module": "@jupyter-widgets/controls"
          }
        },
        "d5fae5e326ab4b3b8f5798350c0aef43": {
          "model_module": "@jupyter-widgets/base",
          "model_name": "LayoutModel",
          "model_module_version": "1.2.0",
          "state": {
            "_view_name": "LayoutView",
            "grid_template_rows": null,
            "right": null,
            "justify_content": null,
            "_view_module": "@jupyter-widgets/base",
            "overflow": null,
            "_model_module_version": "1.2.0",
            "_view_count": null,
            "flex_flow": null,
            "width": null,
            "min_width": null,
            "border": null,
            "align_items": null,
            "bottom": null,
            "_model_module": "@jupyter-widgets/base",
            "top": null,
            "grid_column": null,
            "overflow_y": null,
            "overflow_x": null,
            "grid_auto_flow": null,
            "grid_area": null,
            "grid_template_columns": null,
            "flex": null,
            "_model_name": "LayoutModel",
            "justify_items": null,
            "grid_row": null,
            "max_height": null,
            "align_content": null,
            "visibility": null,
            "align_self": null,
            "height": null,
            "min_height": null,
            "padding": null,
            "grid_auto_rows": null,
            "grid_gap": null,
            "max_width": null,
            "order": null,
            "_view_module_version": "1.2.0",
            "grid_template_areas": null,
            "object_position": null,
            "object_fit": null,
            "grid_auto_columns": null,
            "margin": null,
            "display": null,
            "left": null
          }
        }
      }
    }
  },
  "cells": [
    {
      "cell_type": "markdown",
      "metadata": {
        "id": "view-in-github",
        "colab_type": "text"
      },
      "source": [
        "<a href=\"https://colab.research.google.com/github/phenix-project/Colabs/blob/main/CCTBX_Quickstart.ipynb\" target=\"_parent\"><img src=\"https://colab.research.google.com/assets/colab-badge.svg\" alt=\"Open In Colab\"/></a>"
      ]
    },
    {
      "cell_type": "markdown",
      "metadata": {
        "id": "jDU-VY8eo2cG"
      },
      "source": [
        "# CCTBX Quickstart\n",
        "Get all dependencies installed and start coding using CCTBX"
      ]
    },
    {
      "cell_type": "markdown",
      "metadata": {
        "id": "2zb2Szc1NfWN"
      },
      "source": [
        "#Installation\n",
        "### Installation is in three steps:\n",
        "####    1.  the Anaconda Python package manager, CCTBX, and py3Dmol\n",
        "####    2. Retrieve the chemical data repositories and some example data\n",
        "####    3. Restart the Runtime and load CCTBX environment variables"
      ]
    },
    {
      "cell_type": "code",
      "metadata": {
        "id": "7ZyxiGwSLcrs",
        "cellView": "form",
        "colab": {
          "base_uri": "https://localhost:8080/",
          "height": 49,
          "referenced_widgets": [
            "f2ac96bb2392446f9b00fa6ccda00d9e",
            "7651165684c347a9b89f200442bc93d2",
            "a98c66ed87b940198c10ee490bd134e0",
            "16a3437d428d4bf99efaf762ae96a3a0",
            "39ab313cefea4283a55597e0e2ceb5dc",
            "0904a3b30e0d490d9f212f9bcff37cc9",
            "8307f4cc6a5f497e9e65c9fd591cf713",
            "e238e81219114b4f89eae66fe27f552d",
            "c701b979fa2e4767ac6d9f7fface0646",
            "058af76b6985472bb635971b42bfdd2d",
            "d5fae5e326ab4b3b8f5798350c0aef43"
          ]
        },
        "outputId": "52ed5ab0-3dfa-40c3-fc38-5517ef4f0a1a"
      },
      "source": [
        "#@title Install software\n",
        "#@markdown Please execute this cell by pressing the _Play_ button \n",
        "#@markdown on the left. Installation may take a few minutes.\n",
        "#@markdown Double click on this text to show/hide the installation script\n",
        "\n",
        "from IPython.utils import io\n",
        "import tqdm.notebook\n",
        "\n",
        "total = 50\n",
        "\n",
        "MINICONDA_PREFIX=\"/usr/local\"\n",
        "MINICONDA_INSTALLER_SCRIPT=\"Miniconda3-py37_4.9.2-Linux-x86_64.sh\"\n",
        "\n",
        "with tqdm.notebook.tqdm(total=total) as pbar:\n",
        "    with io.capture_output() as captured:\n",
        "      # install anaconda\n",
        "      %shell wget https://repo.continuum.io/miniconda/$MINICONDA_INSTALLER_SCRIPT\n",
        "      pbar.update(10)\n",
        "      %shell chmod +x {MINICONDA_INSTALLER_SCRIPT}\n",
        "      %shell ./{MINICONDA_INSTALLER_SCRIPT} -b -f -p {MINICONDA_PREFIX}\n",
        "      %shell conda install -c conda-forge cctbx -y\n",
        "      pbar.update(30)\n",
        "      \n",
        "      # provide location of libtbx environment\n",
        "      %shell ln -s /usr/local/share/cctbx /usr/share/cctbx\n",
        "\n",
        "      # replace system libstdc++ with conda version\n",
        "      # restart runtime after running\n",
        "      # to keep changes persistent, modify the filesystem, not environment variables\n",
        "      %shell sudo cp /usr/local/lib/libstdc++.so.6.0.29 /usr/lib/x86_64-linux-gnu/libstdc++.so.6 \n",
        "\n",
        "\n",
        "      # non cctbx installs\n",
        "      %shell pip install py3dmol\n",
        "      %shell apt install -y subversion\n",
        "\n",
        "      # python scripts for py3dmol + cctbx\n",
        "      %shell mkdir cctbx_py3dmol\n",
        "      %shell cd cctbx_py3dmol\n",
        "      %shell wget https://raw.githubusercontent.com/cschlick/cctbx-notebooks/master/cctbx_py3dmol_wrapper.py\n",
        "      %shell wget https://raw.githubusercontent.com/cschlick/cctbx-notebooks/master/cubetools.py\n",
        "      %shell cd ../\n",
        "      pbar.update(10)\n",
        "\n",
        "      "
      ],
      "execution_count": null,
      "outputs": [
        {
          "data": {
            "application/vnd.jupyter.widget-view+json": {
              "model_id": "f2ac96bb2392446f9b00fa6ccda00d9e",
              "version_major": 2,
              "version_minor": 0
            },
            "text/plain": [
              "  0%|          | 0/50 [00:00<?, ?it/s]"
            ]
          },
          "metadata": {},
          "output_type": "display_data"
        }
      ]
    },
    {
      "cell_type": "code",
      "metadata": {
        "id": "SKOxhUpP0N5k",
        "cellView": "form"
      },
      "source": [
        "#@title Download data\n",
        "#@markdown Please execute this cell by pressing the _Play_ button \n",
        "#@markdown on the left. This should take a minute.\n",
        "%%capture\n",
        "%%bash\n",
        "\n",
        "# get chemical data\n",
        "cd  /usr/local/lib/python3.7/site-packages\n",
        "mkdir chem_data\n",
        "cd chem_data\n",
        "\n",
        "svn --quiet --non-interactive --trust-server-cert co https://github.com/phenix-project/geostd.git/trunk geostd\n",
        "svn --quiet --non-interactive --trust-server-cert co https://github.com/rlabduke/mon_lib.git/trunk mon_lib\n",
        "svn --quiet --non-interactive --trust-server-cert export https://github.com/rlabduke/reference_data.git/trunk/Top8000/Top8000_rotamer_pct_contour_grids rotarama_data\n",
        "svn --quiet --non-interactive --trust-server-cert --force export https://github.com/rlabduke/reference_data.git/trunk/Top8000/Top8000_ramachandran_pct_contour_grids rotarama_data\n",
        "svn --quiet --non-interactive --trust-server-cert co https://github.com/rlabduke/reference_data.git/trunk/Top8000/Top8000_cablam_pct_contour_grids cablam_data\n",
        "svn --quiet --non-interactive --trust-server-cert co https://github.com/rlabduke/reference_data.git/trunk/Top8000/rama_z rama_z\n",
        "\n",
        "# update rotamer and cablam cache\n",
        "/usr/local/bin/mmtbx.rebuild_rotarama_cache\n",
        "/usr/local/bin/mmtbx.rebuild_cablam_cache\n",
        "\n",
        "\n",
        "# get probe\n",
        "git clone https://github.com/cschlick/cctbx-notebooks.git\n",
        "mkdir -p /usr/local/share/cctbx/probe/exe\n",
        "cp cctbx-notebooks/probe /usr/local/share/cctbx/probe/exe\n",
        "chmod +x /usr/local/share/cctbx/probe/exe/probe\n",
        "mkdir -p /usr/lib/python3.7/site-packages/probe\n",
        "mkdir -p /usr/lib/python3.7/site-packages/reduce\n",
        "\n",
        "# tutorial data\n",
        "cd /content/ \n",
        "wget https://gitcdn.link/repo/phenix-lbl/cctbx_tutorial_files/master/2019_melk/1aba_pieces.pdb\n",
        "wget https://gitcdn.link/repo/phenix-lbl/cctbx_tutorial_files/master/2019_melk/1aba_model.pdb\n",
        "wget https://gitcdn.link/repo/phenix-lbl/cctbx_tutorial_files/master/2019_melk/4zyp.mtz\n",
        "wget https://gitcdn.link/repo/phenix-lbl/cctbx_tutorial_files/master/2019_melk/1aba_reflections.mtz\n",
        "wget https://gitcdn.link/repo/phenix-lbl/cctbx_tutorial_files/master/2019_melk/resname_mix.pdb\n"
      ],
      "execution_count": null,
      "outputs": []
    },
    {
      "cell_type": "markdown",
      "metadata": {
        "id": "2-vBTJbT-dt7"
      },
      "source": [
        "**WAIT!**...don't click the next button yet...Go to \"Runtime\" and select \"Restart Runtime\" first.  Then click the button below as noted."
      ]
    },
    {
      "cell_type": "code",
      "metadata": {
        "id": "GojrMInlLosF",
        "cellView": "form"
      },
      "source": [
        "#@title Set environment variables and do imports\n",
        "#@markdown Execute this cell by clicking the run button the left\n",
        "%%capture\n",
        "#  Manually update sys.path\n",
        "%env PYTHONPATH=\"$/env/python:/usr/local/lib:/usr/local/lib/python3.7/lib-dynload:/usr/local/lib/python3.7/site-packages\"\n",
        "\n",
        "# add conda paths to sys.path\n",
        "import sys, os\n",
        "sys.path.extend(['/usr/local/lib', '/usr/local/lib/python3.7/lib-dynload', '/usr/local/lib/python3.7/site-packages',\"/content/cctbx_py3dmol\"])\n",
        "os.environ[\"MMTBX_CCP4_MONOMER_LIB\"]=\"/usr/local/lib/python3.7/site-packages/chem_data/geostd\"\n",
        "os.environ[\"LIBTBX_BUILD\"]= \"/usr/local/share/cctbx\"\n",
        "\n",
        "import cctbx\n",
        "import libtbx\n",
        "libtbx.env.add_repository(\"/usr/local/lib/python3.7/site-packages/\")\n",
        "libtbx.env.module_dist_paths['probe']=\"\"\n",
        "\n",
        "from cubetools import *\n",
        "from cctbx_py3dmol_wrapper import CCTBX3dmolWrapper\n",
        "\n"
      ],
      "execution_count": null,
      "outputs": []
    },
    {
      "cell_type": "markdown",
      "metadata": {
        "id": "WTtUdcU_NOHi"
      },
      "source": [
        "#### Test\n",
        "We should (hopefully) not see any errors. Use the Run button or Shift+Enter to execute the cells"
      ]
    },
    {
      "cell_type": "code",
      "metadata": {
        "id": "to8tosuwM7t4",
        "colab": {
          "base_uri": "https://localhost:8080/"
        },
        "outputId": "147e2170-61a2-446d-8c34-cf44de2c74ed"
      },
      "source": [
        "import cctbx\n",
        "from scitbx.array_family import flex\n",
        "a = flex.random_double(100)\n",
        "print(flex.min(a))"
      ],
      "execution_count": null,
      "outputs": [
        {
          "output_type": "stream",
          "name": "stdout",
          "text": [
            "0.0021924397282153674\n"
          ]
        }
      ]
    },
    {
      "cell_type": "code",
      "metadata": {
        "id": "e0UnzkCVF_cR"
      },
      "source": [
        "# your code here..."
      ],
      "execution_count": 1,
      "outputs": []
    },
    {
      "cell_type": "code",
      "metadata": {
        "id": "nkCIwLM4OMUV"
      },
      "source": [
        ""
      ],
      "execution_count": null,
      "outputs": []
    }
  ]
}