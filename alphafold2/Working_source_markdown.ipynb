    {
      "cell_type": "markdown",
      "metadata": {
        "id": "view-in-github",
        "colab_type": "text"
      },
      "source": [
         "<a href=\"https://colab.research.google.com/github/phenix-project/Colabs/blob/main/alphafold2/Working.ipynb\" target=\"_parent\"><img src=\"https://colab.research.google.com/assets/colab-badge.svg\" alt=\"Open In Colab\"/></a>"
      ]
    },

