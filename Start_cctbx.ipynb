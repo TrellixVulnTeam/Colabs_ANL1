{
  "nbformat": 4,
  "nbformat_minor": 0,
  "metadata": {
    "colab": {
      "name": "Start_cctbx.ipynb",
      "provenance": [],
      "collapsed_sections": [],
      "authorship_tag": "ABX9TyPjHSzn50dOXhnItNIbBDV0",
      "include_colab_link": true
    },
    "kernelspec": {
      "name": "python3",
      "display_name": "Python 3"
    },
    "language_info": {
      "name": "python"
    }
  },
  "cells": [
    {
      "cell_type": "markdown",
      "metadata": {
        "id": "view-in-github",
        "colab_type": "text"
      },
      "source": [
        "<a href=\"https://colab.research.google.com/github/phenix-project/Colabs/blob/main/Start_cctbx.ipynb\" target=\"_parent\"><img src=\"https://colab.research.google.com/assets/colab-badge.svg\" alt=\"Open In Colab\"/></a>"
      ]
    },
    {
      "cell_type": "code",
      "execution_count": 1,
      "metadata": {
        "colab": {
          "base_uri": "https://localhost:8080/"
        },
        "id": "ft3z-TiIKKmM",
        "outputId": "5f4f02fe-840d-4cd2-b427-af734753a5dc"
      },
      "outputs": [
        {
          "output_type": "stream",
          "name": "stdout",
          "text": [
            "⏬ Downloading https://github.com/jaimergp/miniforge/releases/latest/download/Mambaforge-colab-Linux-x86_64.sh...\n",
            "📦 Installing...\n",
            "📌 Adjusting configuration...\n",
            "🩹 Patching environment...\n",
            "⏲ Done in 0:00:29\n",
            "🔁 Restarting kernel...\n"
          ]
        }
      ],
      "source": [
        "# Install condacolab so that conda packages can be used\n",
        "# https://github.com/conda-incubator/condacolab\n",
        "#\n",
        "# Important notes\n",
        "# https://github.com/conda-incubator/condacolab#shortcomings\n",
        "# 1) The kernel will automatically be restarted and show an error message about\n",
        "#    a crash (\"Your session crashed for an unknown reason\").\n",
        "#    The error can be ignored.\n",
        "# 2) Only the \"base\" environment is available, so do not create a separate \n",
        "#    environment for pacakges.\n",
        "!pip install -q condacolab\n",
        "import condacolab\n",
        "condacolab.install()"
      ]
    },
    {
      "cell_type": "code",
      "source": [
        "# Install cctbx-base\n",
        "# By default, condacolab installs both conda and mamba. Generally, mamba will\n",
        "# be faster when resolving dependencies.\n",
        "!mamba install -q cctbx-base\n",
        "\n",
        "# conda installs ${CONDA_PREFIX}/share/cctbx into /usr/local instead of /usr\n",
        "# Make a copy to avoid errors\n",
        "!cp -af /usr/local/share/cctbx /usr/share/\n",
        "\n",
        "# sys.path does not have some directories with libraries, so add them here\n",
        "import sys\n",
        "for d in ['/usr/local/lib/python3.7/lib-dynload', '/usr/local/lib']:\n",
        "  if d not in sys.path:\n",
        "    sys.path.insert(0, d)\n",
        "\n",
        "# final check\n",
        "import os\n",
        "if os.path.isdir('/usrloca/share/cctbx') \\\n",
        "  and '/usr/local/lib/python3.7/lib-dynload' in sys.path \\\n",
        "  and '/usr/local/lib' in sys.path:\n",
        "  print('Finished installing cctbx-base')\n",
        "else:\n",
        "  raise RuntimeError('There was an error fixing up the installation of cctbx-base')\n"
      ],
      "metadata": {
        "id": "TFtfP--2Kdnn",
        "outputId": "742f0d95-d2ec-4dbd-9f8e-5549f046e977",
        "colab": {
          "base_uri": "https://localhost:8080/"
        }
      },
      "execution_count": 1,
      "outputs": [
        {
          "output_type": "stream",
          "name": "stdout",
          "text": [
            "  Package              Version  Build                Channel                    Size\n",
            "──────────────────────────────────────────────────────────────────────────────────────\n",
            "  Install:\n",
            "──────────────────────────────────────────────────────────────────────────────────────\n",
            "\n",
            "\u001b[32m  biopython        \u001b[00m       1.79  py37h5e8e339_1       conda-forge/linux-64       3 MB\n",
            "\u001b[32m  boost            \u001b[00m     1.74.0  py37h796e4cb_5       conda-forge/linux-64     342 KB\n",
            "\u001b[32m  boost-cpp        \u001b[00m     1.74.0  hc6e9bd1_3           conda-forge/linux-64      16 MB\n",
            "\u001b[32m  cctbx-base       \u001b[00m     2022.3  py37h5f417b0_2       conda-forge/linux-64      62 MB\n",
            "\u001b[32m  cycler           \u001b[00m     0.11.0  pyhd8ed1ab_0         conda-forge/noarch        10 KB\n",
            "\u001b[32m  freetype         \u001b[00m     2.10.4  h0708190_1           conda-forge/linux-64     890 KB\n",
            "\u001b[32m  future           \u001b[00m     0.18.2  py37h89c1867_5       conda-forge/linux-64     713 KB\n",
            "\u001b[32m  jpeg             \u001b[00m         9e  h7f98852_0           conda-forge/linux-64     269 KB\n",
            "\u001b[32m  kiwisolver       \u001b[00m      1.4.2  py37h7cecad7_1       conda-forge/linux-64      73 KB\n",
            "\u001b[32m  lcms2            \u001b[00m       2.12  hddcbb42_0           conda-forge/linux-64     443 KB\n",
            "\u001b[32m  libblas          \u001b[00m      3.9.0  14_linux64_openblas  conda-forge/linux-64      12 KB\n",
            "\u001b[32m  libcblas         \u001b[00m      3.9.0  14_linux64_openblas  conda-forge/linux-64      12 KB\n",
            "\u001b[32m  libgfortran-ng   \u001b[00m     11.2.0  h69a702a_15          conda-forge/linux-64      23 KB\n",
            "\u001b[32m  libgfortran5     \u001b[00m     11.2.0  h5c6108e_15          conda-forge/linux-64       2 MB\n",
            "\u001b[32m  libglu           \u001b[00m      9.0.0  he1b5a44_1001        conda-forge/linux-64     413 KB\n",
            "\u001b[32m  liblapack        \u001b[00m      3.9.0  14_linux64_openblas  conda-forge/linux-64      12 KB\n",
            "\u001b[32m  libopenblas      \u001b[00m     0.3.20  pthreads_h78a6416_0  conda-forge/linux-64      10 MB\n",
            "\u001b[32m  libpng           \u001b[00m     1.6.37  hed695b0_2           conda-forge/linux-64     359 KB\n",
            "\u001b[32m  libsvm           \u001b[00m        325  h9c3ff4c_0           conda-forge/linux-64      80 KB\n",
            "\u001b[32m  libtiff          \u001b[00m      4.2.0  hbd63e13_2           conda-forge/linux-64     639 KB\n",
            "\u001b[32m  libwebp-base     \u001b[00m      1.2.2  h7f98852_1           conda-forge/linux-64     824 KB\n",
            "\u001b[32m  matplotlib-base  \u001b[00m      3.4.3  py37h1058ff1_0       conda-forge/linux-64       7 MB\n",
            "\u001b[32m  mrcfile          \u001b[00m      1.3.0  pyh44b312d_0         conda-forge/noarch        32 KB\n",
            "\u001b[32m  numpy            \u001b[00m     1.21.5  py37h976b520_1       conda-forge/linux-64       6 MB\n",
            "\u001b[32m  olefile          \u001b[00m       0.46  pyh9f0ad1d_1         conda-forge/noarch        32 KB\n",
            "\u001b[32m  openjpeg         \u001b[00m      2.4.0  hb52868f_1           conda-forge/linux-64     444 KB\n",
            "\u001b[32m  pillow           \u001b[00m      8.2.0  py37h4600e1f_1       conda-forge/linux-64     684 KB\n",
            "\u001b[32m  psutil           \u001b[00m      5.9.0  py37h540881e_1       conda-forge/linux-64     342 KB\n",
            "\u001b[32m  pyparsing        \u001b[00m      3.0.8  pyhd8ed1ab_0         conda-forge/noarch        79 KB\n",
            "\u001b[32m  python-dateutil  \u001b[00m      2.8.2  pyhd8ed1ab_0         conda-forge/noarch       240 KB\n",
            "\u001b[32m  reportlab        \u001b[00m     3.5.68  py37h69800bb_1       conda-forge/linux-64       2 MB\n",
            "\u001b[32m  scipy            \u001b[00m      1.7.3  py37hf2a6cf1_0       conda-forge/linux-64      22 MB\n",
            "\u001b[32m  tornado          \u001b[00m        6.1  py37h540881e_3       conda-forge/linux-64     646 KB\n",
            "\u001b[32m  typing-extensions\u001b[00m      4.1.1  hd8ed1ab_0           conda-forge/noarch         8 KB\n",
            "\u001b[32m  typing_extensions\u001b[00m      4.1.1  pyha770c72_0         conda-forge/noarch        29 KB\n",
            "\n",
            "  Upgrade:\n",
            "──────────────────────────────────────────────────────────────────────────────────────\n",
            "\n",
            "\u001b[31m  ca-certificates  \u001b[00m  2020.12.5  ha878542_0           installed                      \n",
            "\u001b[32m  ca-certificates  \u001b[00m  2021.10.8  ha878542_0           conda-forge/linux-64     139 KB\n",
            "\u001b[31m  certifi          \u001b[00m  2020.12.5  py37h89c1867_1       installed                      \n",
            "\u001b[32m  certifi          \u001b[00m  2021.10.8  py37h89c1867_2       conda-forge/linux-64     145 KB\n",
            "\u001b[31m  libgcc-ng        \u001b[00m      9.3.0  h2828fa1_18          installed                      \n",
            "\u001b[32m  libgcc-ng        \u001b[00m     11.2.0  h1d223b6_15          conda-forge/linux-64     911 KB\n",
            "\u001b[31m  libgomp          \u001b[00m      9.3.0  h2828fa1_18          installed                      \n",
            "\u001b[32m  libgomp          \u001b[00m     11.2.0  h1d223b6_15          conda-forge/linux-64     432 KB\n",
            "\u001b[31m  libstdcxx-ng     \u001b[00m      9.3.0  h6de172a_18          installed                      \n",
            "\u001b[32m  libstdcxx-ng     \u001b[00m     11.2.0  he4da1e4_15          conda-forge/linux-64       4 MB\n",
            "\u001b[31m  openssl          \u001b[00m     1.1.1j  h7f98852_0           installed                      \n",
            "\u001b[32m  openssl          \u001b[00m     1.1.1n  h166bdaf_0           conda-forge/linux-64       2 MB\n",
            "\n",
            "  Summary:\n",
            "\n",
            "  Install: 35 packages\n",
            "  Upgrade: 6 packages\n",
            "\n",
            "  Total download: 146 MB\n",
            "\n",
            "──────────────────────────────────────────────────────────────────────────────────────\n",
            "\n",
            "Preparing transaction: ...working... done\n",
            "Verifying transaction: ...working... done\n",
            "Executing transaction: ...working... done\n"
          ]
        }
      ]
    },
    {
      "cell_type": "code",
      "source": [
        "# Start running cctbx code\n",
        "# Thanks to Georg Mlynek for this example!\n",
        "from cctbx import crystal, miller\n",
        "\n",
        "crystal_symmetry = crystal.symmetry((10, 20, 30, 90, 90, 90), 'P212121')\n",
        "ms = miller.build_set(\n",
        "    crystal_symmetry=crystal_symmetry,\n",
        "    anomalous_flag=True,\n",
        "    d_min=2,\n",
        "    d_max=10\n",
        ")\n",
        "crystal_symmetry.show_summary()\n",
        "print('Resolution range', ms.d_max_min())\n",
        "print('Number of reflections', ms.indices().size())"
      ],
      "metadata": {
        "colab": {
          "base_uri": "https://localhost:8080/"
        },
        "id": "jug2vYAgLpQF",
        "outputId": "febe0032-6f12-429e-db08-f1271e394779"
      },
      "execution_count": 2,
      "outputs": [
        {
          "output_type": "stream",
          "name": "stdout",
          "text": [
            "Unit cell: (10, 20, 30, 90, 90, 90)\n",
            "Space group: P 21 21 21 (No. 19)\n",
            "Resolution range (10.0, 2.0)\n",
            "Number of reflections 762\n"
          ]
        }
      ]
    },
    {
      "cell_type": "code",
      "source": [
        ""
      ],
      "metadata": {
        "id": "W21Cne7BNNv9"
      },
      "execution_count": null,
      "outputs": []
    }
  ]
}