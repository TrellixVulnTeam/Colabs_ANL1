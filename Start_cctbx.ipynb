{
  "nbformat": 4,
  "nbformat_minor": 0,
  "metadata": {
    "colab": {
      "name": "Start_cctbx.ipynb",
      "provenance": [],
      "collapsed_sections": [],
      "authorship_tag": "ABX9TyNih1hqWx+pBBsErc8j6jAI",
      "include_colab_link": true
    },
    "kernelspec": {
      "name": "python3",
      "display_name": "Python 3"
    },
    "language_info": {
      "name": "python"
    }
  },
  "cells": [
    {
      "cell_type": "markdown",
      "metadata": {
        "id": "view-in-github",
        "colab_type": "text"
      },
      "source": [
        "<a href=\"https://colab.research.google.com/github/phenix-project/Colabs/blob/main/Start_cctbx.ipynb\" target=\"_parent\"><img src=\"https://colab.research.google.com/assets/colab-badge.svg\" alt=\"Open In Colab\"/></a>"
      ]
    },
    {
      "cell_type": "code",
      "execution_count": 1,
      "metadata": {
        "colab": {
          "base_uri": "https://localhost:8080/"
        },
        "id": "ft3z-TiIKKmM",
        "outputId": "bc8ab2f7-2af4-4470-9d0b-6f84a90fea2b"
      },
      "outputs": [
        {
          "output_type": "stream",
          "name": "stdout",
          "text": [
            "⏬ Downloading https://github.com/jaimergp/miniforge/releases/latest/download/Mambaforge-colab-Linux-x86_64.sh...\n",
            "📦 Installing...\n",
            "📌 Adjusting configuration...\n",
            "🩹 Patching environment...\n",
            "⏲ Done in 0:00:46\n",
            "🔁 Restarting kernel...\n"
          ]
        }
      ],
      "source": [
        "# Install condacolab so that conda packages can be used\n",
        "# https://github.com/conda-incubator/condacolab\n",
        "#\n",
        "# Important notes\n",
        "# https://github.com/conda-incubator/condacolab#shortcomings\n",
        "# 1) The kernel will automatically be restarted and show an error message about\n",
        "#    a crash (\"Your session crashed for an unknown reason\").\n",
        "#    The error can be ignored.\n",
        "# 2) Only the \"base\" environment is available, so do not create a separate \n",
        "#    environment for pacakges.\n",
        "!pip install -q condacolab\n",
        "import condacolab\n",
        "condacolab.install()"
      ]
    },
    {
      "cell_type": "code",
      "source": [
        "# Install cctbx-base\n",
        "# By default, condacolab installs both conda and mamba. Generally, mamba will\n",
        "# be faster when resolving dependencies.\n",
        "!mamba install -q cctbx-base\n",
        "\n",
        "# conda installs ${CONDA_PREFIX}/share/cctbx into /usr/local instead of /usr\n",
        "# Make a copy to avoid errors\n",
        "!cp -af /usr/local/share/cctbx /usr/share/\n",
        "\n",
        "# sys.path does not have some directories with libraries, so add them here\n",
        "import sys\n",
        "for d in ['/usr/local/lib/python3.7/lib-dynload', '/usr/local/lib']:\n",
        "  if d not in sys.path:\n",
        "    sys.path.insert(0, d)\n"
      ],
      "metadata": {
        "id": "TFtfP--2Kdnn"
      },
      "execution_count": 32,
      "outputs": []
    },
    {
      "cell_type": "code",
      "source": [
        "# Start running cctbx code\n",
        "# Thanks to Georg Mlynek for this example!\n",
        "from cctbx import crystal, miller\n",
        "\n",
        "crystal_symmetry = crystal.symmetry((10, 20, 30, 90, 90, 90), 'P212121')\n",
        "ms = miller.build_set(\n",
        "    crystal_symmetry=crystal_symmetry,\n",
        "    anomalous_flag=True,\n",
        "    d_min=2,\n",
        "    d_max=10\n",
        ")\n",
        "crystal_symmetry.show_summary()\n",
        "print('Resolution range', ms.d_max_min())\n",
        "print('Number of reflections', ms.indices().size())"
      ],
      "metadata": {
        "colab": {
          "base_uri": "https://localhost:8080/"
        },
        "id": "jug2vYAgLpQF",
        "outputId": "f690d9eb-0359-434e-f0bb-92187031543d"
      },
      "execution_count": 33,
      "outputs": [
        {
          "output_type": "stream",
          "name": "stdout",
          "text": [
            "Unit cell: (10, 20, 30, 90, 90, 90)\n",
            "Space group: P 21 21 21 (No. 19)\n",
            "Resolution range (10.0, 2.0)\n",
            "Number of reflections 762\n"
          ]
        }
      ]
    },
    {
      "cell_type": "code",
      "source": [
        ""
      ],
      "metadata": {
        "id": "W21Cne7BNNv9"
      },
      "execution_count": null,
      "outputs": []
    }
  ]
}